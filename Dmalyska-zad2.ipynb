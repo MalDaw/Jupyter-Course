{
 "cells": [
  {
   "cell_type": "code",
   "execution_count": 1,
   "id": "edf179ae-0e29-4dce-a266-8f5d1b873bc7",
   "metadata": {},
   "outputs": [],
   "source": [
    "a = 10\n",
    "b = 3.5\n",
    "c = \"Python\"\n",
    "d = True"
   ]
  },
  {
   "cell_type": "code",
   "execution_count": 5,
   "id": "9b345588-df14-4815-a750-02647f8b1f76",
   "metadata": {},
   "outputs": [
    {
     "name": "stdout",
     "output_type": "stream",
     "text": [
      "10 to jest <class 'int'>\n",
      "3.5 to jest <class 'float'>\n",
      "Python to jest <class 'str'>\n",
      "True to jest <class 'bool'>\n"
     ]
    }
   ],
   "source": [
    "print(f\"{a} to jest {type(a)}\")\n",
    "print(f\"{b} to jest {type(b)}\")\n",
    "print(f\"{c} to jest {type(c)}\")\n",
    "print(f\"{d} to jest {type(d)}\")"
   ]
  },
  {
   "cell_type": "code",
   "execution_count": 10,
   "id": "206d2d27-082c-40ab-85f7-99f2a9dd6b18",
   "metadata": {},
   "outputs": [
    {
     "name": "stdout",
     "output_type": "stream",
     "text": [
      "13.5\n",
      "6.5\n",
      "35.0\n",
      "2.857142857142857\n",
      "3162.2776601683795\n"
     ]
    }
   ],
   "source": [
    "dod = a + b\n",
    "ode = a - b\n",
    "mnoz = a*b\n",
    "dziel = a/b\n",
    "pot = a**b\n",
    "print(dod)\n",
    "print(ode)\n",
    "print(mnoz)\n",
    "print(dziel)\n",
    "print(pot)"
   ]
  },
  {
   "cell_type": "code",
   "execution_count": 11,
   "id": "b394cdd7-6275-47a7-b784-470cddfa779f",
   "metadata": {},
   "outputs": [
    {
     "name": "stdout",
     "output_type": "stream",
     "text": [
      "Wartość a to 10 a wartość b to 3.5\n"
     ]
    }
   ],
   "source": [
    "print(f\"Wartość a to {a} a wartość b to {b}\")"
   ]
  },
  {
   "cell_type": "code",
   "execution_count": null,
   "id": "293717c3-3d62-4aac-8fba-25b7b7f2fb61",
   "metadata": {},
   "outputs": [],
   "source": []
  }
 ],
 "metadata": {
  "kernelspec": {
   "display_name": "Python [conda env:.conda-ml_course]",
   "language": "python",
   "name": "conda-env-.conda-ml_course-py"
  },
  "language_info": {
   "codemirror_mode": {
    "name": "ipython",
    "version": 3
   },
   "file_extension": ".py",
   "mimetype": "text/x-python",
   "name": "python",
   "nbconvert_exporter": "python",
   "pygments_lexer": "ipython3",
   "version": "3.9.24"
  }
 },
 "nbformat": 4,
 "nbformat_minor": 5
}
