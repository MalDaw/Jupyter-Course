{
 "cells": [
  {
   "cell_type": "code",
   "execution_count": 4,
   "id": "163fee9c-e850-477c-9eaa-3d54a1500669",
   "metadata": {},
   "outputs": [
    {
     "name": "stdin",
     "output_type": "stream",
     "text": [
      "Wpisz numer 3\n"
     ]
    },
    {
     "name": "stdout",
     "output_type": "stream",
     "text": [
      "Liczba 3 jest nieparzysta\n"
     ]
    }
   ],
   "source": [
    "number = input(\"Wpisz numer\")\n",
    "if float(number) % 2 == 0 :\n",
    "    print(f\"Liczba {number} jest parzysta\")\n",
    "else: \n",
    "    print(f\"Liczba {number} jest nieparzysta\")"
   ]
  },
  {
   "cell_type": "code",
   "execution_count": 6,
   "id": "bc60907f-5f8a-4b57-a2a6-1f4bcff9a4a8",
   "metadata": {},
   "outputs": [
    {
     "name": "stdout",
     "output_type": "stream",
     "text": [
      "1\n",
      "2\n",
      "3\n",
      "4\n",
      "5\n",
      "6\n",
      "7\n",
      "8\n",
      "9\n",
      "10\n"
     ]
    }
   ],
   "source": [
    "for i in range(0,10):\n",
    "    print(i+1)"
   ]
  },
  {
   "cell_type": "code",
   "execution_count": 15,
   "id": "893787fc-c57a-4107-ae8a-bfeb575bd9fd",
   "metadata": {},
   "outputs": [
    {
     "name": "stdout",
     "output_type": "stream",
     "text": [
      "1\n",
      "2\n",
      "3\n",
      "4\n",
      "5\n"
     ]
    }
   ],
   "source": [
    "a = 1\n",
    "while(a < 6):\n",
    "    print(a)\n",
    "    a+=1"
   ]
  },
  {
   "cell_type": "code",
   "execution_count": null,
   "id": "b329e03a-9dae-4f56-8fac-e392f4f281ed",
   "metadata": {},
   "outputs": [],
   "source": []
  }
 ],
 "metadata": {
  "kernelspec": {
   "display_name": "Python [conda env:.conda-ml_course]",
   "language": "python",
   "name": "conda-env-.conda-ml_course-py"
  },
  "language_info": {
   "codemirror_mode": {
    "name": "ipython",
    "version": 3
   },
   "file_extension": ".py",
   "mimetype": "text/x-python",
   "name": "python",
   "nbconvert_exporter": "python",
   "pygments_lexer": "ipython3",
   "version": "3.9.24"
  }
 },
 "nbformat": 4,
 "nbformat_minor": 5
}
