{
 "cells": [
  {
   "cell_type": "code",
   "execution_count": 1,
   "id": "7152ce2d-ad0f-4f0b-91bc-7e2ca894ff30",
   "metadata": {},
   "outputs": [],
   "source": [
    "fruits = [\"jabłko\", \"banan\", \"malina\"] \n",
    "\n",
    "person = {\"name\": \"Ala\", \"age\": 22} \n",
    "\n",
    "numbers = {1, 2, 3, 3} "
   ]
  },
  {
   "cell_type": "code",
   "execution_count": 2,
   "id": "70b45ed7-302f-41f5-a88e-6d9149dbfdb2",
   "metadata": {},
   "outputs": [
    {
     "name": "stdout",
     "output_type": "stream",
     "text": [
      "jabłko\n",
      "banan\n",
      "malina\n",
      "truskawka\n"
     ]
    }
   ],
   "source": [
    "fruits.append(\"truskawka\")\n",
    "for fruit in fruits:\n",
    "    print(fruit)"
   ]
  },
  {
   "cell_type": "code",
   "execution_count": 3,
   "id": "eef34af8-fd5b-4010-b9bb-997c4173f81e",
   "metadata": {},
   "outputs": [
    {
     "name": "stdout",
     "output_type": "stream",
     "text": [
      "banan\n"
     ]
    }
   ],
   "source": [
    "print(fruits[1])"
   ]
  },
  {
   "cell_type": "code",
   "execution_count": 5,
   "id": "09dc29e2-a768-43e5-9ca8-77c1af3711c5",
   "metadata": {},
   "outputs": [
    {
     "name": "stdout",
     "output_type": "stream",
     "text": [
      "54.0\n"
     ]
    }
   ],
   "source": [
    "numbs = [4,8,15,16,23,42]\n",
    "total = 0\n",
    "for numb in numbs:\n",
    "    total += numb\n",
    "avg = total/\n",
    "print(avg)"
   ]
  },
  {
   "cell_type": "code",
   "execution_count": 12,
   "id": "2579e655-2abb-44af-985d-44e94ca44024",
   "metadata": {},
   "outputs": [
    {
     "name": "stdout",
     "output_type": "stream",
     "text": [
      "18\n"
     ]
    }
   ],
   "source": [
    "import statistics as sts\n",
    "\n",
    "print(sts.mean(numbs))\n"
   ]
  },
  {
   "cell_type": "code",
   "execution_count": 11,
   "id": "2e59fe83-06f4-44e7-9026-b9cdebf162fa",
   "metadata": {},
   "outputs": [
    {
     "name": "stdout",
     "output_type": "stream",
     "text": [
      "name :  Ala\n",
      "age :  22\n"
     ]
    }
   ],
   "source": [
    "for k, v in person.items():\n",
    "    print(k, \": \", v)"
   ]
  },
  {
   "cell_type": "code",
   "execution_count": null,
   "id": "c895f53f-50f3-4a49-a5a1-b7acf42c9dbe",
   "metadata": {},
   "outputs": [],
   "source": []
  }
 ],
 "metadata": {
  "kernelspec": {
   "display_name": "Python [conda env:.conda-ml_course]",
   "language": "python",
   "name": "conda-env-.conda-ml_course-py"
  },
  "language_info": {
   "codemirror_mode": {
    "name": "ipython",
    "version": 3
   },
   "file_extension": ".py",
   "mimetype": "text/x-python",
   "name": "python",
   "nbconvert_exporter": "python",
   "pygments_lexer": "ipython3",
   "version": "3.9.24"
  }
 },
 "nbformat": 4,
 "nbformat_minor": 5
}
