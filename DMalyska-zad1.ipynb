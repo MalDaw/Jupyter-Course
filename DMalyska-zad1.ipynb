{
 "cells": [
  {
   "cell_type": "markdown",
   "id": "30bed50b-892d-4ad7-87fc-d5c3b961c6b9",
   "metadata": {},
   "source": [
    "Dawid - Informatyka III Semestr\n"
   ]
  },
  {
   "cell_type": "code",
   "execution_count": 1,
   "id": "92fb3af8-1e21-47b1-b3d2-544ee79d3c86",
   "metadata": {},
   "outputs": [
    {
     "name": "stdout",
     "output_type": "stream",
     "text": [
      "Hello, worl\n"
     ]
    }
   ],
   "source": [
    "print(\"Hello, worl\")"
   ]
  },
  {
   "cell_type": "code",
   "execution_count": null,
   "id": "cadba315-57d3-48d1-81e7-7635fa25150b",
   "metadata": {},
   "outputs": [],
   "source": []
  }
 ],
 "metadata": {
  "kernelspec": {
   "display_name": "Python [conda env:.conda-ml_course]",
   "language": "python",
   "name": "conda-env-.conda-ml_course-py"
  },
  "language_info": {
   "codemirror_mode": {
    "name": "ipython",
    "version": 3
   },
   "file_extension": ".py",
   "mimetype": "text/x-python",
   "name": "python",
   "nbconvert_exporter": "python",
   "pygments_lexer": "ipython3",
   "version": "3.9.24"
  }
 },
 "nbformat": 4,
 "nbformat_minor": 5
}
