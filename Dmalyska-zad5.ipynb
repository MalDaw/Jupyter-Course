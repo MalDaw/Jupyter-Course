{
 "cells": [
  {
   "cell_type": "code",
   "execution_count": null,
   "id": "c027f32c-f549-46f9-b5b5-cccb938b2eee",
   "metadata": {},
   "outputs": [],
   "source": []
  }
 ],
 "metadata": {
  "kernelspec": {
   "display_name": "",
   "name": ""
  },
  "language_info": {
   "name": ""
  }
 },
 "nbformat": 4,
 "nbformat_minor": 5
}
